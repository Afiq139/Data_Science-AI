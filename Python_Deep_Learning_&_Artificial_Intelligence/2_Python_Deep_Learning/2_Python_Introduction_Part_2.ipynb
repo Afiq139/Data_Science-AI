{
 "cells": [
  {
   "cell_type": "code",
   "execution_count": 1,
   "metadata": {},
   "outputs": [
    {
     "data": {
      "text/plain": [
       "(float, int)"
      ]
     },
     "execution_count": 1,
     "metadata": {},
     "output_type": "execute_result"
    }
   ],
   "source": [
    "type(34/2), type(int(34/2))"
   ]
  },
  {
   "cell_type": "markdown",
   "metadata": {},
   "source": [
    "List [ ], set{ }, tuple ( ), dictionary {key:vaue}"
   ]
  },
  {
   "cell_type": "code",
   "execution_count": 5,
   "metadata": {},
   "outputs": [
    {
     "name": "stdout",
     "output_type": "stream",
     "text": [
      "[2, 3, 34, False, 'this is str', 1.2] <class 'list'>\n",
      "34\n"
     ]
    }
   ],
   "source": [
    "var1 = [2,3,34,False,'this is str', 1.2]\n",
    "print(var1, type(var1))\n",
    "\n",
    "#can indexing\n",
    "#can duplicate value\n",
    "print(var1[2])"
   ]
  },
  {
   "cell_type": "code",
   "execution_count": 7,
   "metadata": {},
   "outputs": [
    {
     "data": {
      "text/plain": [
       "{False, True, 2, 3, 4, 5}"
      ]
     },
     "execution_count": 7,
     "metadata": {},
     "output_type": "execute_result"
    }
   ],
   "source": [
    "var2 = {2,3,4,5,False,True}\n",
    "var2 \n",
    "\n",
    "#can't indexing, like var2[0]\n",
    "#can't duplicate value"
   ]
  },
  {
   "cell_type": "code",
   "execution_count": null,
   "metadata": {},
   "outputs": [],
   "source": []
  }
 ],
 "metadata": {
  "kernelspec": {
   "display_name": "base",
   "language": "python",
   "name": "python3"
  },
  "language_info": {
   "codemirror_mode": {
    "name": "ipython",
    "version": 3
   },
   "file_extension": ".py",
   "mimetype": "text/x-python",
   "name": "python",
   "nbconvert_exporter": "python",
   "pygments_lexer": "ipython3",
   "version": "3.11.3"
  }
 },
 "nbformat": 4,
 "nbformat_minor": 2
}
