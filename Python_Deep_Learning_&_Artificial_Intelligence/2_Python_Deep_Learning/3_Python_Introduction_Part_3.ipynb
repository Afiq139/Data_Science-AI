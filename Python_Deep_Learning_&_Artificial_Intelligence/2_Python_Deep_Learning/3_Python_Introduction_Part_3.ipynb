{
 "cells": [
  {
   "cell_type": "markdown",
   "metadata": {},
   "source": [
    "if-else, for, while, function"
   ]
  },
  {
   "cell_type": "code",
   "execution_count": 7,
   "metadata": {},
   "outputs": [
    {
     "name": "stdout",
     "output_type": "stream",
     "text": [
      "a equal to b\n"
     ]
    }
   ],
   "source": [
    "a = 45\n",
    "b = 45\n",
    "\n",
    "if a>b:\n",
    "    print('a is less than b')\n",
    "elif a==b:\n",
    "    print('a equal to b')\n",
    "else:\n",
    "    print('a is greater than b')"
   ]
  },
  {
   "cell_type": "code",
   "execution_count": 9,
   "metadata": {},
   "outputs": [
    {
     "name": "stdout",
     "output_type": "stream",
     "text": [
      "<class 'int'>\n",
      "<class 'int'>\n",
      "<class 'int'>\n",
      "<class 'int'>\n",
      "this is str\n"
     ]
    }
   ],
   "source": [
    "var3 = (1,2,3,32, 'this is str')\n",
    "\n",
    "for value in var3:\n",
    "    if type(value)==str:\n",
    "        print(value)\n",
    "    else:\n",
    "        print(type(value))"
   ]
  },
  {
   "cell_type": "code",
   "execution_count": 11,
   "metadata": {},
   "outputs": [
    {
     "name": "stdout",
     "output_type": "stream",
     "text": [
      "i just do some operation\n",
      "9\n",
      " \n",
      "i just do some operation\n",
      "8\n",
      " \n",
      "i just do some operation\n",
      "7\n",
      " \n",
      "i just do some operation\n",
      "6\n",
      " \n",
      "i just do some operation\n",
      "5\n",
      " \n",
      "i just do some operation\n",
      "4\n",
      " \n",
      "i just do some operation\n",
      "3\n",
      " \n",
      "i just do some operation\n",
      "2\n",
      " \n",
      "i just do some operation\n",
      "1\n",
      " \n",
      "i just do some operation\n",
      "0\n",
      " \n"
     ]
    }
   ],
   "source": [
    "a = 10\n",
    "while a>0:\n",
    "    print('i just do some operation')\n",
    "    a = a - 1\n",
    "    print(a)\n",
    "    print(' ')"
   ]
  }
 ],
 "metadata": {
  "kernelspec": {
   "display_name": "base",
   "language": "python",
   "name": "python3"
  },
  "language_info": {
   "codemirror_mode": {
    "name": "ipython",
    "version": 3
   },
   "file_extension": ".py",
   "mimetype": "text/x-python",
   "name": "python",
   "nbconvert_exporter": "python",
   "pygments_lexer": "ipython3",
   "version": "3.11.3"
  }
 },
 "nbformat": 4,
 "nbformat_minor": 2
}
