{
 "cells": [
  {
   "cell_type": "markdown",
   "metadata": {},
   "source": [
    "if-else, for, while, function"
   ]
  },
  {
   "cell_type": "code",
   "execution_count": 17,
   "metadata": {},
   "outputs": [
    {
     "name": "stdout",
     "output_type": "stream",
     "text": [
      "a equal to b\n"
     ]
    }
   ],
   "source": [
    "a = 45\n",
    "b = 45\n",
    "\n",
    "if a>b:\n",
    "    print('a is less than b')\n",
    "elif a==b:\n",
    "    print('a equal to b')\n",
    "else:\n",
    "    print('a is greater than b')"
   ]
  },
  {
   "cell_type": "code",
   "execution_count": 18,
   "metadata": {},
   "outputs": [
    {
     "name": "stdout",
     "output_type": "stream",
     "text": [
      "<class 'int'>\n",
      "<class 'int'>\n",
      "<class 'int'>\n",
      "<class 'int'>\n",
      "this is str\n"
     ]
    }
   ],
   "source": [
    "var3 = (1,2,3,32, 'this is str')\n",
    "\n",
    "for value in var3:\n",
    "    if type(value)==str:\n",
    "        print(value)\n",
    "    else:\n",
    "        print(type(value))"
   ]
  },
  {
   "cell_type": "code",
   "execution_count": 19,
   "metadata": {},
   "outputs": [
    {
     "name": "stdout",
     "output_type": "stream",
     "text": [
      "i just do some 10 operation\n",
      "9\n",
      " \n",
      "i just do some 9 operation\n",
      "8\n",
      " \n",
      "i just do some 8 operation\n",
      "7\n",
      " \n",
      "i just do some 7 operation\n",
      "6\n",
      " \n",
      "i just do some 6 operation\n",
      "5\n",
      " \n",
      "i just do some 5 operation\n",
      "4\n",
      " \n",
      "i just do some 4 operation\n",
      "3\n",
      " \n",
      "i just do some 3 operation\n",
      "2\n",
      " \n",
      "i just do some 2 operation\n",
      "1\n",
      " \n",
      "i just do some 1 operation\n",
      "0\n",
      " \n"
     ]
    }
   ],
   "source": [
    "a = 10\n",
    "while a>0:\n",
    "    print('i just do some {} operation'.format(a))\n",
    "    a = a - 1\n",
    "    print(a)\n",
    "    print(' ')"
   ]
  },
  {
   "cell_type": "code",
   "execution_count": 20,
   "metadata": {},
   "outputs": [
    {
     "data": {
      "text/plain": [
       "25"
      ]
     },
     "execution_count": 20,
     "metadata": {},
     "output_type": "execute_result"
    }
   ],
   "source": [
    "#define function\n",
    "def add_number(a,b):\n",
    "    c = a + b\n",
    "    #print(c)\n",
    "    return c\n",
    "\n",
    "add_number(10,15)"
   ]
  }
 ],
 "metadata": {
  "kernelspec": {
   "display_name": "base",
   "language": "python",
   "name": "python3"
  },
  "language_info": {
   "codemirror_mode": {
    "name": "ipython",
    "version": 3
   },
   "file_extension": ".py",
   "mimetype": "text/x-python",
   "name": "python",
   "nbconvert_exporter": "python",
   "pygments_lexer": "ipython3",
   "version": "3.11.3"
  }
 },
 "nbformat": 4,
 "nbformat_minor": 2
}
