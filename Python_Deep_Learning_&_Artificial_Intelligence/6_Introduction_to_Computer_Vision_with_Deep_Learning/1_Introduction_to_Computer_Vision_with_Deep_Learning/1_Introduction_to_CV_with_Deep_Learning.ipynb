{
 "cells": [
  {
   "cell_type": "markdown",
   "metadata": {},
   "source": [
    "#### Building Deep Neural Network with Tensorflow (pic)\n",
    "##### Introduction to Computer Vision with Deep Learning"
   ]
  }
 ],
 "metadata": {
  "language_info": {
   "name": "python"
  }
 },
 "nbformat": 4,
 "nbformat_minor": 2
}
