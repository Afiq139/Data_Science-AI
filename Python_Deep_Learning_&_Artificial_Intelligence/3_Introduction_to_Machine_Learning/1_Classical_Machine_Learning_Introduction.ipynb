{
 "cells": [
  {
   "cell_type": "markdown",
   "metadata": {},
   "source": [
    "# Introduction to Machine Learning"
   ]
  },
  {
   "cell_type": "markdown",
   "metadata": {},
   "source": [
    "- Machine learning evolved from computer science that primarily studies the design of algorithms that can learn from experience.\n",
    "\n",
    "- To learn, they need data that has certain attributes based on which the algorithms try to find some meaningful predictive patterns."
   ]
  },
  {
   "cell_type": "markdown",
   "metadata": {},
   "source": [
    "#### Classification of Machine Learning\n",
    "- 1. Supervised Learning\n",
    "\n",
    "(having input data and output label or target label)\n",
    "\n",
    "\n",
    "- 2. Unsupervised Learning\n",
    "\n",
    "(don't have an output or a target label, only have input data)\n",
    "\n",
    "\n",
    "- 3. Reinforcement Learning\n",
    "\n",
    "(a kind of learning which is a continuous learning in real enviroment)\n",
    "\n",
    "\n",
    "- 4. Semi-supervised Learning\n",
    "\n",
    "(a kind of output data and as well as input data for the prediction.)\n"
   ]
  },
  {
   "cell_type": "markdown",
   "metadata": {},
   "source": [
    "#### Categorizing on the basis of Required Output\n",
    "\n",
    "- Classification\n",
    "- Regression\n",
    "- Clustering"
   ]
  }
 ],
 "metadata": {
  "language_info": {
   "name": "python"
  }
 },
 "nbformat": 4,
 "nbformat_minor": 2
}
