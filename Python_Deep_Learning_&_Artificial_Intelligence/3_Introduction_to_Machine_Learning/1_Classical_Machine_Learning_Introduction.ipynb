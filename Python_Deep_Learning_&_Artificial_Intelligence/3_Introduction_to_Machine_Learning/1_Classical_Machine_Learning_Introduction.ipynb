{
 "cells": [
  {
   "cell_type": "markdown",
   "metadata": {},
   "source": [
    "# Introduction to Machine Learning"
   ]
  },
  {
   "cell_type": "markdown",
   "metadata": {},
   "source": [
    "- Machine learning evolved from computer science that primarily studies the design of algorithms that can learn from experience.\n",
    "\n",
    "- To learn, they need data that has certain attributes based on which the algorithms try to find some meaningful predictive patterns."
   ]
  },
  {
   "cell_type": "markdown",
   "metadata": {},
   "source": [
    "#### Classification of Machine Learning\n",
    "- 1. Supervised Learning\n",
    "\n",
    "(having input data and output label or target label)\n",
    "\n",
    "\n",
    "- 2. Unsupervised Learning\n",
    "\n",
    "(don't have an output or a target label, only have input data)\n",
    "\n",
    "\n",
    "- 3. Reinforcement Learning\n",
    "\n",
    "(a kind of learning which is a continuous learning in real enviroment)\n",
    "\n",
    "\n",
    "- 4. Semi-supervised Learning\n",
    "\n",
    "(a kind of output data and as well as input data for the prediction.)\n"
   ]
  },
  {
   "cell_type": "markdown",
   "metadata": {},
   "source": [
    "#### Categorizing on the basis of Required Output\n",
    "\n",
    "- Classification\n",
    "\n",
    "(have a certain type of output or a finite number of outputs.)\n",
    "\n",
    "- Regression\n",
    "\n",
    "(have a continuous type of the outputs)\n",
    "\n",
    "- Clustering -- Unsupervised Learning\n",
    "\n",
    "(don't have any special type of the output)\n",
    "\n",
    "(it produces the finite amount of target output, but don't know how many output it is going to produce in the clustering. )\n"
   ]
  }
 ],
 "metadata": {
  "language_info": {
   "name": "python"
  }
 },
 "nbformat": 4,
 "nbformat_minor": 2
}
