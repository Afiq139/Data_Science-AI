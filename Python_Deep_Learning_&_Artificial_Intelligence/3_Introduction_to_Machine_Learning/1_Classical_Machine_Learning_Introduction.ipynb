{
 "cells": [
  {
   "cell_type": "markdown",
   "metadata": {},
   "source": [
    "# Introduction to Machine Learning"
   ]
  },
  {
   "cell_type": "markdown",
   "metadata": {},
   "source": [
    "- Machine learning evolved from computer science that primarily studies the design of algorithms that can learn from experience.\n",
    "\n",
    "- To learn, they need data that has certain attributes based on which the algorithms try to find some meaningful predictive patterns."
   ]
  }
 ],
 "metadata": {
  "language_info": {
   "name": "python"
  }
 },
 "nbformat": 4,
 "nbformat_minor": 2
}
