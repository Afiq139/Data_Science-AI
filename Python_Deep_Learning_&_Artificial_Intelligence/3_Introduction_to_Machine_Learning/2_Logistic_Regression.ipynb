{
 "cells": [
  {
   "cell_type": "markdown",
   "metadata": {},
   "source": [
    "#### Logistic Regression\n",
    "\n",
    "- is a statistical model that in it's basic form uses a logistic function to model a binary dependent variable although many more complex extension exist.\n",
    "- Many problems require a probability estimate as output.\n",
    "- Logistic regression is an extremely efficient mechanism for calculating probabilites."
   ]
  }
 ],
 "metadata": {
  "language_info": {
   "name": "python"
  }
 },
 "nbformat": 4,
 "nbformat_minor": 2
}
