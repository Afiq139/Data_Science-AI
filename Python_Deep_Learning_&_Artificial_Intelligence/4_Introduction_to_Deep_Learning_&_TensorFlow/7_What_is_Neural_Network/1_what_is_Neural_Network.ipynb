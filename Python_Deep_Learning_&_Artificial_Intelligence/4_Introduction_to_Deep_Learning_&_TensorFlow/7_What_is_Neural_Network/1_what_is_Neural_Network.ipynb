{
 "cells": [
  {
   "cell_type": "markdown",
   "metadata": {},
   "source": [
    "#### What is Neural Network (pic)"
   ]
  }
 ],
 "metadata": {
  "language_info": {
   "name": "python"
  }
 },
 "nbformat": 4,
 "nbformat_minor": 2
}
