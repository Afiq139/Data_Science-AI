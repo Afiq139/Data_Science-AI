{
 "cells": [
  {
   "cell_type": "markdown",
   "metadata": {},
   "source": [
    "#### Tokernizer Coding"
   ]
  },
  {
   "cell_type": "markdown",
   "metadata": {},
   "source": [
    "--------------------"
   ]
  },
  {
   "cell_type": "code",
   "execution_count": 1,
   "metadata": {},
   "outputs": [],
   "source": [
    "# import tensorflow as tf\n",
    "# from tensorflow import keras\n",
    "# from keras.preprocessing.text import Tokernizer"
   ]
  },
  {
   "cell_type": "code",
   "execution_count": 2,
   "metadata": {},
   "outputs": [],
   "source": [
    "# sentences = ['visit kgp talkie', 'kgp talkie publishes awesome videos']\n",
    "\n",
    "# tokernizer = Tokernizer(num_words=10, oov_token = '<OOV>')\n",
    "# tokernizer.fit_on_texts(sentences)\n",
    "\n",
    "# word_index = tokernizer.word_index\n",
    "# print(word_index)"
   ]
  },
  {
   "cell_type": "markdown",
   "metadata": {},
   "source": [
    "#### Padding Coding"
   ]
  },
  {
   "cell_type": "markdown",
   "metadata": {},
   "source": [
    "---------------------"
   ]
  },
  {
   "cell_type": "code",
   "execution_count": 3,
   "metadata": {},
   "outputs": [],
   "source": [
    "# sequences = tokenizer.text_to_sequences(sentences)\n",
    "# sequences"
   ]
  },
  {
   "cell_type": "code",
   "execution_count": 4,
   "metadata": {},
   "outputs": [],
   "source": [
    "# sequences = tokenizer.text_to_sequences(['this could be anything', 'publishes new videos'])\n",
    "# sequences"
   ]
  },
  {
   "cell_type": "code",
   "execution_count": 5,
   "metadata": {},
   "outputs": [],
   "source": [
    "# from tensorflow.keras.preprocessing.sequence import pad_sequences\n",
    "# sequences = tokenizer.text_to_sequences(sentences)\n",
    "# padded = pad_sequences(sequences, maxlen= 7, padding='post')\n",
    "# padded"
   ]
  },
  {
   "cell_type": "markdown",
   "metadata": {},
   "source": [
    "#### IMDB Dataset Preparation"
   ]
  },
  {
   "cell_type": "markdown",
   "metadata": {},
   "source": [
    "-----------------"
   ]
  },
  {
   "cell_type": "code",
   "execution_count": 6,
   "metadata": {},
   "outputs": [],
   "source": [
    "# import tensorflow_datasets as tfds"
   ]
  },
  {
   "cell_type": "code",
   "execution_count": 7,
   "metadata": {},
   "outputs": [],
   "source": [
    "# data, info = tfds.load(\"imdb_reviews\", with_info=True, as_supervised=True)"
   ]
  },
  {
   "cell_type": "code",
   "execution_count": 8,
   "metadata": {},
   "outputs": [],
   "source": [
    "#info"
   ]
  },
  {
   "cell_type": "code",
   "execution_count": 9,
   "metadata": {},
   "outputs": [],
   "source": [
    "#class_names = info.features['label'].names"
   ]
  },
  {
   "cell_type": "code",
   "execution_count": 10,
   "metadata": {},
   "outputs": [],
   "source": [
    "#data"
   ]
  },
  {
   "cell_type": "code",
   "execution_count": 11,
   "metadata": {},
   "outputs": [],
   "source": [
    "# training_sentences = []\n",
    "# training_labels = []\n",
    "\n",
    "# for text, label in data['train']:\n",
    "#     training_sentences.append(text.numpy().decode())\n",
    "#     training_labels.append(label.numpy())\n",
    "\n",
    "\n",
    "# testing_sentences = []\n",
    "# testing_labels = []\n",
    "\n",
    "# for text, label in data['test']:\n",
    "#     testing_sentences.append(text.numpy().decode())\n",
    "#     testing_labels.append(label.numpy())"
   ]
  },
  {
   "cell_type": "code",
   "execution_count": 12,
   "metadata": {},
   "outputs": [],
   "source": [
    "# training_labels"
   ]
  },
  {
   "cell_type": "code",
   "execution_count": 13,
   "metadata": {},
   "outputs": [],
   "source": [
    "# import numpy as np\n",
    "\n",
    "# training_labels = np.array(training_labels)\n",
    "# testing_labels = np.array(testing_labels)"
   ]
  },
  {
   "cell_type": "code",
   "execution_count": 14,
   "metadata": {},
   "outputs": [],
   "source": [
    "# testing_sentences"
   ]
  },
  {
   "cell_type": "code",
   "execution_count": 15,
   "metadata": {},
   "outputs": [],
   "source": [
    "# training_sentences[:3]"
   ]
  },
  {
   "cell_type": "code",
   "execution_count": 16,
   "metadata": {},
   "outputs": [],
   "source": [
    "# training_sentences[:1] , training_labels[:1]"
   ]
  },
  {
   "cell_type": "markdown",
   "metadata": {},
   "source": [
    "#### Text Cleaning"
   ]
  },
  {
   "cell_type": "markdown",
   "metadata": {},
   "source": [
    "--------------------------"
   ]
  },
  {
   "cell_type": "code",
   "execution_count": 17,
   "metadata": {},
   "outputs": [],
   "source": [
    "# import preprocess_kgptalkie as ps \n",
    "# import re\n",
    "\n",
    "# def get_clean(x):\n",
    "#     x = str(x).lower().replace('\\\\', '').replace('_', ' ')\n",
    "#     x = ps.cont_exp(x)\n",
    "#     x = ps.remove_emails(x)\n",
    "#     x = ps.remove_urls(x)\n",
    "#     x = ps.remove_html_tags(x)\n",
    "#     x = ps.remove_accented_chars(x)\n",
    "#     x = ps.remove_special_chars(x)\n",
    "#     x = re.sub(\"(.)\\\\1{2,}\", \"\\\\1\", x)\n",
    "\n",
    "#     return x"
   ]
  },
  {
   "cell_type": "code",
   "execution_count": 18,
   "metadata": {},
   "outputs": [],
   "source": [
    "# text = get_clean(training_sentences[0])\n",
    "\n",
    "# training_sentences = [get_clean(x) for x in training_sentences]\n",
    "# testing_sentences = [get_clean(x) for x in testing_sentences]"
   ]
  },
  {
   "cell_type": "markdown",
   "metadata": {},
   "source": [
    "#### Text Length Plot"
   ]
  },
  {
   "cell_type": "markdown",
   "metadata": {},
   "source": [
    "--------------------"
   ]
  },
  {
   "cell_type": "code",
   "execution_count": 19,
   "metadata": {},
   "outputs": [],
   "source": [
    "# training_sentences[:1]"
   ]
  },
  {
   "cell_type": "code",
   "execution_count": 20,
   "metadata": {},
   "outputs": [],
   "source": [
    "# import matplotlib.pyplot as plt\n",
    "\n",
    "# plt.hist([len(x.split(\" \")) for x in training_sentences], bins=100)\n",
    "# plt.show()"
   ]
  },
  {
   "cell_type": "markdown",
   "metadata": {},
   "source": [
    "#### Dataset Tokenization for Training"
   ]
  },
  {
   "cell_type": "markdown",
   "metadata": {},
   "source": [
    "------------------------"
   ]
  },
  {
   "cell_type": "code",
   "execution_count": 21,
   "metadata": {},
   "outputs": [],
   "source": [
    "# vocal_size=50_000\n",
    "# input_length=1000\n",
    "\n",
    "# tokernizer = Tokernizer(num_words=vocab_size, oov_token='<OOV>')\n",
    "# tokernizer.fit_on_texts(training_sentences)\n",
    "\n",
    "# training_sequences=tokernizer.text_to_sequences(training_sentences)\n",
    "# training_padded = pad_sequences(training_sequences, maxlen=input_length, padding='post', truncating='post')\n",
    "\n",
    "# testing_sequences=tokernizer.text_to_sequences(testing_sentences)\n",
    "# testing_padded = pad_sequences(testing_sequences, maxlen=input_length, padding='post', truncating='post')"
   ]
  },
  {
   "cell_type": "code",
   "execution_count": 22,
   "metadata": {},
   "outputs": [],
   "source": [
    "# vocab_dict=tokernizer.word_index\n",
    "# class_names"
   ]
  },
  {
   "cell_type": "markdown",
   "metadata": {},
   "source": [
    "#### 1D Convolutional Model Building"
   ]
  },
  {
   "cell_type": "markdown",
   "metadata": {},
   "source": [
    "-------------------------------"
   ]
  },
  {
   "cell_type": "code",
   "execution_count": null,
   "metadata": {},
   "outputs": [],
   "source": [
    "# from keras import Sequential\n",
    "# from keras.layers import Embedding, Dense, Dropout, GlobalAveragePooling1D, Conv1D"
   ]
  },
  {
   "cell_type": "code",
   "execution_count": null,
   "metadata": {},
   "outputs": [],
   "source": [
    "# embed_dim=64\n",
    "# model =Sequential()\n",
    "\n",
    "# model.add(Embedding(vocab_size, embed_dim, imput_length=input_length))\n",
    "# model.add(Conv1D(64,3, activation='relu'))\n",
    "# model.add(Conv1D(128,3, activation='relu'))\n",
    "# model.add(GlobalAveragePooling1D())\n",
    "# model.add(Dropout(0.2))\n",
    "# model.add(Dense(64,activation='relu'))\n",
    "# model.add(Dense(1,activation='sigmoid'))\n",
    "\n",
    "# opt = keras.optimizers.Adam(learning_rate=0.0001)\n",
    "# model.compile(loss='binary_crossentropy', optimizer=opt, metrics=['accuracy'])\n",
    "# model.summary()"
   ]
  }
 ],
 "metadata": {
  "kernelspec": {
   "display_name": "base",
   "language": "python",
   "name": "python3"
  },
  "language_info": {
   "codemirror_mode": {
    "name": "ipython",
    "version": 3
   },
   "file_extension": ".py",
   "mimetype": "text/x-python",
   "name": "python",
   "nbconvert_exporter": "python",
   "pygments_lexer": "ipython3",
   "version": "3.11.3"
  }
 },
 "nbformat": 4,
 "nbformat_minor": 2
}
