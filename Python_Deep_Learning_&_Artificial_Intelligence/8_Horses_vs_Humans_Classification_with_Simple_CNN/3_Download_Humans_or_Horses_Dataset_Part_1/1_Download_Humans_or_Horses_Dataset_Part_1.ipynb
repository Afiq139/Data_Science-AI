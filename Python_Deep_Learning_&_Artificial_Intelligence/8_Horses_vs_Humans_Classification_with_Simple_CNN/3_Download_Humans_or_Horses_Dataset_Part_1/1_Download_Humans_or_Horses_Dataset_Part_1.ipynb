{
 "cells": [
  {
   "cell_type": "markdown",
   "metadata": {},
   "source": [
    "#### Download Humans or Horses Dataset Part 1 (pic)"
   ]
  },
  {
   "cell_type": "markdown",
   "metadata": {},
   "source": [
    "---------------"
   ]
  }
 ],
 "metadata": {
  "language_info": {
   "name": "python"
  }
 },
 "nbformat": 4,
 "nbformat_minor": 2
}
