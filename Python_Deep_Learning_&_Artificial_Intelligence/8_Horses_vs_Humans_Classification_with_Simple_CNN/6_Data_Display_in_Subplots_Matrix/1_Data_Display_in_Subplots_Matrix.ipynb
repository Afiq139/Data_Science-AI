{
 "cells": [
  {
   "cell_type": "markdown",
   "metadata": {},
   "source": [
    "#### Download Humans or Horses Dataset Part 1 "
   ]
  },
  {
   "cell_type": "markdown",
   "metadata": {},
   "source": [
    "---------------"
   ]
  },
  {
   "cell_type": "code",
   "execution_count": 1,
   "metadata": {},
   "outputs": [],
   "source": [
    "# pip install tensorflow_datasets"
   ]
  },
  {
   "cell_type": "code",
   "execution_count": 2,
   "metadata": {},
   "outputs": [
    {
     "name": "stdout",
     "output_type": "stream",
     "text": [
      "WARNING:tensorflow:From C:\\Users\\USER\\AppData\\Roaming\\Python\\Python311\\site-packages\\keras\\src\\losses.py:2976: The name tf.losses.sparse_softmax_cross_entropy is deprecated. Please use tf.compat.v1.losses.sparse_softmax_cross_entropy instead.\n",
      "\n"
     ]
    }
   ],
   "source": [
    "import tensorflow as tf\n",
    "import tensorflow_datasets as tfds\n",
    "import os"
   ]
  },
  {
   "cell_type": "code",
   "execution_count": 3,
   "metadata": {},
   "outputs": [],
   "source": [
    "dataset, info = tfds.load('horses_or_humans', with_info=True, as_supervised=True)"
   ]
  },
  {
   "cell_type": "code",
   "execution_count": 4,
   "metadata": {},
   "outputs": [
    {
     "data": {
      "text/plain": [
       "tfds.core.DatasetInfo(\n",
       "    name='horses_or_humans',\n",
       "    full_name='horses_or_humans/3.0.0',\n",
       "    description=\"\"\"\n",
       "    A large set of images of horses and humans.\n",
       "    \"\"\",\n",
       "    homepage='http://laurencemoroney.com/horses-or-humans-dataset',\n",
       "    data_dir='C:\\\\Users\\\\USER\\\\tensorflow_datasets\\\\horses_or_humans\\\\3.0.0',\n",
       "    file_format=tfrecord,\n",
       "    download_size=153.59 MiB,\n",
       "    dataset_size=153.53 MiB,\n",
       "    features=FeaturesDict({\n",
       "        'image': Image(shape=(300, 300, 3), dtype=uint8),\n",
       "        'label': ClassLabel(shape=(), dtype=int64, num_classes=2),\n",
       "    }),\n",
       "    supervised_keys=('image', 'label'),\n",
       "    disable_shuffling=False,\n",
       "    splits={\n",
       "        'test': <SplitInfo num_examples=256, num_shards=1>,\n",
       "        'train': <SplitInfo num_examples=1027, num_shards=2>,\n",
       "    },\n",
       "    citation=\"\"\"@ONLINE {horses_or_humans,\n",
       "    author = \"Laurence Moroney\",\n",
       "    title = \"Horses or Humans Dataset\",\n",
       "    month = \"feb\",\n",
       "    year = \"2019\",\n",
       "    url = \"http://laurencemoroney.com/horses-or-humans-dataset\"\n",
       "    }\"\"\",\n",
       ")"
      ]
     },
     "execution_count": 4,
     "metadata": {},
     "output_type": "execute_result"
    }
   ],
   "source": [
    "info"
   ]
  },
  {
   "cell_type": "code",
   "execution_count": 5,
   "metadata": {},
   "outputs": [
    {
     "data": {
      "text/plain": [
       "['horses', 'humans']"
      ]
     },
     "execution_count": 5,
     "metadata": {},
     "output_type": "execute_result"
    }
   ],
   "source": [
    "class_names = info.features['label'].names\n",
    "class_names"
   ]
  },
  {
   "cell_type": "markdown",
   "metadata": {},
   "source": [
    "#### Download Humans or Horses Dataset Part 2"
   ]
  },
  {
   "cell_type": "markdown",
   "metadata": {},
   "source": [
    "------------------"
   ]
  },
  {
   "cell_type": "code",
   "execution_count": 6,
   "metadata": {},
   "outputs": [
    {
     "data": {
      "text/plain": [
       "(('image', 'label'),\n",
       " {'train': <SplitInfo num_examples=1027, num_shards=2>,\n",
       "  'test': <SplitInfo num_examples=256, num_shards=1>})"
      ]
     },
     "execution_count": 6,
     "metadata": {},
     "output_type": "execute_result"
    }
   ],
   "source": [
    "info.supervised_keys, info.splits"
   ]
  },
  {
   "cell_type": "code",
   "execution_count": 7,
   "metadata": {},
   "outputs": [
    {
     "data": {
      "text/plain": [
       "{'train': <_PrefetchDataset element_spec=(TensorSpec(shape=(300, 300, 3), dtype=tf.uint8, name=None), TensorSpec(shape=(), dtype=tf.int64, name=None))>,\n",
       " 'test': <_PrefetchDataset element_spec=(TensorSpec(shape=(300, 300, 3), dtype=tf.uint8, name=None), TensorSpec(shape=(), dtype=tf.int64, name=None))>}"
      ]
     },
     "execution_count": 7,
     "metadata": {},
     "output_type": "execute_result"
    }
   ],
   "source": [
    "dataset"
   ]
  },
  {
   "cell_type": "code",
   "execution_count": 8,
   "metadata": {},
   "outputs": [
    {
     "data": {
      "text/plain": [
       "<_PrefetchDataset element_spec=(TensorSpec(shape=(300, 300, 3), dtype=tf.uint8, name=None), TensorSpec(shape=(), dtype=tf.int64, name=None))>"
      ]
     },
     "execution_count": 8,
     "metadata": {},
     "output_type": "execute_result"
    }
   ],
   "source": [
    "dataset['train']"
   ]
  },
  {
   "cell_type": "code",
   "execution_count": 9,
   "metadata": {},
   "outputs": [],
   "source": [
    "for i, example in enumerate(dataset['train']):\n",
    "    image, label = example\n",
    "    save_dir = 'horse-or-human/train/{}'.format(class_names[label])\n",
    "    os.makedirs(save_dir, exist_ok=True)\n",
    "    filepath = save_dir + \"/\" + class_names[label] + \"_\" + str(i) + '.jpg'\n",
    "    # print(i, label, save_dir)\n",
    "    # print(filepath)\n",
    "\n",
    "    # if i>5:\n",
    "    #     break\n",
    "\n",
    "    tf.keras.preprocessing.image.save_img(filepath, image.numpy())"
   ]
  },
  {
   "cell_type": "code",
   "execution_count": 10,
   "metadata": {},
   "outputs": [
    {
     "data": {
      "text/plain": [
       "<tf.Tensor: shape=(300, 300, 3), dtype=uint8, numpy=\n",
       "array([[[192, 215, 233],\n",
       "        [193, 215, 233],\n",
       "        [193, 215, 234],\n",
       "        ...,\n",
       "        [244, 255, 255],\n",
       "        [245, 255, 255],\n",
       "        [245, 255, 255]],\n",
       "\n",
       "       [[193, 215, 234],\n",
       "        [193, 215, 234],\n",
       "        [193, 215, 234],\n",
       "        ...,\n",
       "        [244, 255, 255],\n",
       "        [245, 255, 255],\n",
       "        [245, 255, 255]],\n",
       "\n",
       "       [[193, 216, 234],\n",
       "        [193, 216, 234],\n",
       "        [193, 216, 234],\n",
       "        ...,\n",
       "        [244, 255, 255],\n",
       "        [245, 255, 255],\n",
       "        [244, 255, 255]],\n",
       "\n",
       "       ...,\n",
       "\n",
       "       [[ 64,  55,  51],\n",
       "        [ 62,  53,  50],\n",
       "        [ 54,  47,  44],\n",
       "        ...,\n",
       "        [ 36,  31,  30],\n",
       "        [ 30,  26,  25],\n",
       "        [ 30,  26,  24]],\n",
       "\n",
       "       [[ 59,  50,  46],\n",
       "        [ 58,  50,  46],\n",
       "        [ 55,  49,  46],\n",
       "        ...,\n",
       "        [ 37,  33,  32],\n",
       "        [ 29,  25,  24],\n",
       "        [ 27,  23,  21]],\n",
       "\n",
       "       [[ 56,  47,  43],\n",
       "        [ 55,  47,  43],\n",
       "        [ 52,  46,  43],\n",
       "        ...,\n",
       "        [ 48,  43,  40],\n",
       "        [ 38,  33,  32],\n",
       "        [ 33,  29,  28]]], dtype=uint8)>"
      ]
     },
     "execution_count": 10,
     "metadata": {},
     "output_type": "execute_result"
    }
   ],
   "source": [
    "image"
   ]
  },
  {
   "cell_type": "code",
   "execution_count": 11,
   "metadata": {},
   "outputs": [],
   "source": [
    "for i, example in enumerate(dataset['test']):\n",
    "    image, label = example\n",
    "    save_dir = 'horse-or-human/test/{}'.format(class_names[label])\n",
    "    os.makedirs(save_dir, exist_ok=True)\n",
    "    filepath = save_dir + \"/\" + class_names[label] + \"_\" + str(i) + '.jpg'\n",
    "    # print(i, label, save_dir)\n",
    "    # print(filepath)\n",
    "\n",
    "    # if i>5:\n",
    "    #     break\n",
    "\n",
    "    tf.keras.preprocessing.image.save_img(filepath, image.numpy())"
   ]
  },
  {
   "cell_type": "markdown",
   "metadata": {},
   "source": [
    "#### Use of Image Data Generator"
   ]
  },
  {
   "cell_type": "markdown",
   "metadata": {},
   "source": [
    "---------------------------------"
   ]
  },
  {
   "cell_type": "code",
   "execution_count": 12,
   "metadata": {},
   "outputs": [
    {
     "name": "stdout",
     "output_type": "stream",
     "text": [
      "Found 1027 images belonging to 2 classes.\n",
      "Found 256 images belonging to 2 classes.\n"
     ]
    }
   ],
   "source": [
    "from tensorflow.keras.preprocessing.image import ImageDataGenerator\n",
    "image_size=(300,300)\n",
    "batch_size = 32\n",
    "\n",
    "train_dir = \"horse-or-human/train\"\n",
    "train_datagen = ImageDataGenerator(rescale=1/255)\n",
    "train_generator = train_datagen.flow_from_directory(train_dir, target_size = image_size, batch_size = batch_size, class_mode = \"binary\")\n",
    "\n",
    "test_dir = \"horse-or-human/test\"\n",
    "test_datagen = ImageDataGenerator(rescale=1/255)\n",
    "test_generator = test_datagen.flow_from_directory(test_dir, target_size= image_size, batch_size= batch_size, class_mode=\"binary\")\n"
   ]
  }
 ],
 "metadata": {
  "kernelspec": {
   "display_name": "base",
   "language": "python",
   "name": "python3"
  },
  "language_info": {
   "codemirror_mode": {
    "name": "ipython",
    "version": 3
   },
   "file_extension": ".py",
   "mimetype": "text/x-python",
   "name": "python",
   "nbconvert_exporter": "python",
   "pygments_lexer": "ipython3",
   "version": "3.11.3"
  }
 },
 "nbformat": 4,
 "nbformat_minor": 2
}
