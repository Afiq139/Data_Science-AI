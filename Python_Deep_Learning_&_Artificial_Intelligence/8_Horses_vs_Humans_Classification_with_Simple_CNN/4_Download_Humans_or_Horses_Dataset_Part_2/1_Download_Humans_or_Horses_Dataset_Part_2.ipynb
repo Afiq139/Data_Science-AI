{
 "cells": [
  {
   "cell_type": "markdown",
   "metadata": {},
   "source": [
    "#### Download Humans or Horses Dataset Part 1 "
   ]
  },
  {
   "cell_type": "markdown",
   "metadata": {},
   "source": [
    "---------------"
   ]
  },
  {
   "cell_type": "code",
   "execution_count": 9,
   "metadata": {},
   "outputs": [],
   "source": [
    "# pip install tensorflow_datasets"
   ]
  },
  {
   "cell_type": "code",
   "execution_count": 10,
   "metadata": {},
   "outputs": [],
   "source": [
    "import tensorflow as tf\n",
    "import tensorflow_datasets as tfds\n",
    "import os"
   ]
  },
  {
   "cell_type": "code",
   "execution_count": 11,
   "metadata": {},
   "outputs": [],
   "source": [
    "dataset, info = tfds.load('horses_or_humans', with_info=True, as_supervised=True)"
   ]
  },
  {
   "cell_type": "code",
   "execution_count": 12,
   "metadata": {},
   "outputs": [
    {
     "data": {
      "text/plain": [
       "tfds.core.DatasetInfo(\n",
       "    name='horses_or_humans',\n",
       "    full_name='horses_or_humans/3.0.0',\n",
       "    description=\"\"\"\n",
       "    A large set of images of horses and humans.\n",
       "    \"\"\",\n",
       "    homepage='http://laurencemoroney.com/horses-or-humans-dataset',\n",
       "    data_dir='C:\\\\Users\\\\USER\\\\tensorflow_datasets\\\\horses_or_humans\\\\3.0.0',\n",
       "    file_format=tfrecord,\n",
       "    download_size=153.59 MiB,\n",
       "    dataset_size=153.53 MiB,\n",
       "    features=FeaturesDict({\n",
       "        'image': Image(shape=(300, 300, 3), dtype=uint8),\n",
       "        'label': ClassLabel(shape=(), dtype=int64, num_classes=2),\n",
       "    }),\n",
       "    supervised_keys=('image', 'label'),\n",
       "    disable_shuffling=False,\n",
       "    splits={\n",
       "        'test': <SplitInfo num_examples=256, num_shards=1>,\n",
       "        'train': <SplitInfo num_examples=1027, num_shards=2>,\n",
       "    },\n",
       "    citation=\"\"\"@ONLINE {horses_or_humans,\n",
       "    author = \"Laurence Moroney\",\n",
       "    title = \"Horses or Humans Dataset\",\n",
       "    month = \"feb\",\n",
       "    year = \"2019\",\n",
       "    url = \"http://laurencemoroney.com/horses-or-humans-dataset\"\n",
       "    }\"\"\",\n",
       ")"
      ]
     },
     "execution_count": 12,
     "metadata": {},
     "output_type": "execute_result"
    }
   ],
   "source": [
    "info"
   ]
  },
  {
   "cell_type": "code",
   "execution_count": 13,
   "metadata": {},
   "outputs": [
    {
     "data": {
      "text/plain": [
       "['horses', 'humans']"
      ]
     },
     "execution_count": 13,
     "metadata": {},
     "output_type": "execute_result"
    }
   ],
   "source": [
    "class_names = info.features['label'].names\n",
    "class_names"
   ]
  },
  {
   "cell_type": "markdown",
   "metadata": {},
   "source": [
    "#### Download Humans or Horses Dataset Part 2"
   ]
  },
  {
   "cell_type": "markdown",
   "metadata": {},
   "source": [
    "------------------"
   ]
  },
  {
   "cell_type": "code",
   "execution_count": 14,
   "metadata": {},
   "outputs": [
    {
     "data": {
      "text/plain": [
       "(('image', 'label'),\n",
       " {'train': <SplitInfo num_examples=1027, num_shards=2>,\n",
       "  'test': <SplitInfo num_examples=256, num_shards=1>})"
      ]
     },
     "execution_count": 14,
     "metadata": {},
     "output_type": "execute_result"
    }
   ],
   "source": [
    "info.supervised_keys, info.splits"
   ]
  },
  {
   "cell_type": "code",
   "execution_count": 15,
   "metadata": {},
   "outputs": [
    {
     "data": {
      "text/plain": [
       "{'train': <_PrefetchDataset element_spec=(TensorSpec(shape=(300, 300, 3), dtype=tf.uint8, name=None), TensorSpec(shape=(), dtype=tf.int64, name=None))>,\n",
       " 'test': <_PrefetchDataset element_spec=(TensorSpec(shape=(300, 300, 3), dtype=tf.uint8, name=None), TensorSpec(shape=(), dtype=tf.int64, name=None))>}"
      ]
     },
     "execution_count": 15,
     "metadata": {},
     "output_type": "execute_result"
    }
   ],
   "source": [
    "dataset"
   ]
  },
  {
   "cell_type": "code",
   "execution_count": 16,
   "metadata": {},
   "outputs": [
    {
     "data": {
      "text/plain": [
       "<_PrefetchDataset element_spec=(TensorSpec(shape=(300, 300, 3), dtype=tf.uint8, name=None), TensorSpec(shape=(), dtype=tf.int64, name=None))>"
      ]
     },
     "execution_count": 16,
     "metadata": {},
     "output_type": "execute_result"
    }
   ],
   "source": [
    "dataset['train']"
   ]
  },
  {
   "cell_type": "code",
   "execution_count": 26,
   "metadata": {},
   "outputs": [],
   "source": [
    "for i, example in enumerate(dataset['train']):\n",
    "    image, label = example\n",
    "    save_dir = 'horse-or-human/train/{}'.format(class_names[label])\n",
    "    os.makedirs(save_dir, exist_ok=True)\n",
    "    filepath = save_dir + \"/\" + class_names[label] + \"_\" + str(i) + '.jpg'\n",
    "    # print(i, label, save_dir)\n",
    "    # print(filepath)\n",
    "\n",
    "    # if i>5:\n",
    "    #     break\n",
    "\n",
    "    tf.keras.preprocessing.image.save_img(filepath, image.numpy())"
   ]
  },
  {
   "cell_type": "code",
   "execution_count": 21,
   "metadata": {},
   "outputs": [
    {
     "data": {
      "text/plain": [
       "<tf.Tensor: shape=(300, 300, 3), dtype=uint8, numpy=\n",
       "array([[[ 53,  55,  45],\n",
       "        [ 46,  47,  40],\n",
       "        [ 39,  40,  36],\n",
       "        ...,\n",
       "        [ 24,  25,  24],\n",
       "        [ 21,  23,  21],\n",
       "        [ 19,  21,  20]],\n",
       "\n",
       "       [[ 41,  40,  34],\n",
       "        [ 49,  48,  42],\n",
       "        [ 54,  53,  48],\n",
       "        ...,\n",
       "        [ 18,  20,  19],\n",
       "        [ 16,  18,  16],\n",
       "        [ 16,  18,  16]],\n",
       "\n",
       "       [[ 33,  29,  28],\n",
       "        [ 50,  47,  42],\n",
       "        [ 62,  58,  53],\n",
       "        ...,\n",
       "        [ 17,  19,  17],\n",
       "        [ 15,  16,  14],\n",
       "        [ 14,  15,  13]],\n",
       "\n",
       "       ...,\n",
       "\n",
       "       [[160, 143, 125],\n",
       "        [162, 147, 129],\n",
       "        [142, 128, 109],\n",
       "        ...,\n",
       "        [144, 124, 106],\n",
       "        [141, 121, 104],\n",
       "        [161, 141, 122]],\n",
       "\n",
       "       [[142, 125, 107],\n",
       "        [155, 134, 115],\n",
       "        [153, 132, 113],\n",
       "        ...,\n",
       "        [149, 129, 113],\n",
       "        [156, 134, 115],\n",
       "        [163, 142, 123]],\n",
       "\n",
       "       [[120, 101,  85],\n",
       "        [123, 103,  87],\n",
       "        [119, 101,  84],\n",
       "        ...,\n",
       "        [158, 136, 118],\n",
       "        [163, 139, 120],\n",
       "        [170, 149, 129]]], dtype=uint8)>"
      ]
     },
     "execution_count": 21,
     "metadata": {},
     "output_type": "execute_result"
    }
   ],
   "source": [
    "image"
   ]
  }
 ],
 "metadata": {
  "kernelspec": {
   "display_name": "base",
   "language": "python",
   "name": "python3"
  },
  "language_info": {
   "codemirror_mode": {
    "name": "ipython",
    "version": 3
   },
   "file_extension": ".py",
   "mimetype": "text/x-python",
   "name": "python",
   "nbconvert_exporter": "python",
   "pygments_lexer": "ipython3",
   "version": "3.11.3"
  }
 },
 "nbformat": 4,
 "nbformat_minor": 2
}
