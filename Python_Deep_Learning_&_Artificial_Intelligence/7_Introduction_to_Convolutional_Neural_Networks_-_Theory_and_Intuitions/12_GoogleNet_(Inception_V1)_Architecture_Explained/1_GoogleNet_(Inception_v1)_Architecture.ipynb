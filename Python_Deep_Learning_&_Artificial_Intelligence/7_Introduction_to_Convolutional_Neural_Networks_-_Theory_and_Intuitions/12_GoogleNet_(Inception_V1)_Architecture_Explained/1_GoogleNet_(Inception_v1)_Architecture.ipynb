{
 "cells": [
  {
   "cell_type": "markdown",
   "metadata": {},
   "source": [
    "#### GoogleNet (Inception v1) Architecture (pic)"
   ]
  },
  {
   "cell_type": "markdown",
   "metadata": {},
   "source": [
    "--------------"
   ]
  }
 ],
 "metadata": {
  "language_info": {
   "name": "python"
  }
 },
 "nbformat": 4,
 "nbformat_minor": 2
}
