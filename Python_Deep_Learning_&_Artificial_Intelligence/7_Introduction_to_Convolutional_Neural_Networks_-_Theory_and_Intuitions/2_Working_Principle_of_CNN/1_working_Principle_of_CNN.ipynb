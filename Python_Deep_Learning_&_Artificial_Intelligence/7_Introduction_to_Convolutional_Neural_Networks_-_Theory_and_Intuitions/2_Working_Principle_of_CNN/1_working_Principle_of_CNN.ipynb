{
 "cells": [
  {
   "cell_type": "markdown",
   "metadata": {},
   "source": [
    "#### Working Principle of CNN (pic)"
   ]
  }
 ],
 "metadata": {
  "language_info": {
   "name": "python"
  }
 },
 "nbformat": 4,
 "nbformat_minor": 2
}
