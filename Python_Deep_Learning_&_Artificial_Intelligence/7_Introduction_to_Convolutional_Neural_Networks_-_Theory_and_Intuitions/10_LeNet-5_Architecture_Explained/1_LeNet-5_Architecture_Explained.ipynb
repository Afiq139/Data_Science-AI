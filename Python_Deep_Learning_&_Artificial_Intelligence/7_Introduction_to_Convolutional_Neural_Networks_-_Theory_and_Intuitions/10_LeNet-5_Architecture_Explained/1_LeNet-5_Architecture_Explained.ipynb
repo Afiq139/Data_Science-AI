{
 "cells": [
  {
   "cell_type": "markdown",
   "metadata": {},
   "source": [
    "#### LeNet-5 Architecture Explained (pic)"
   ]
  },
  {
   "cell_type": "markdown",
   "metadata": {},
   "source": [
    "-------------"
   ]
  }
 ],
 "metadata": {
  "language_info": {
   "name": "python"
  }
 },
 "nbformat": 4,
 "nbformat_minor": 2
}
