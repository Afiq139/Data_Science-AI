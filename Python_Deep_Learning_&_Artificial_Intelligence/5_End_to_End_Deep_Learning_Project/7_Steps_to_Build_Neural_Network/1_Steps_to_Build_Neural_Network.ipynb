{
 "cells": [
  {
   "cell_type": "markdown",
   "metadata": {},
   "source": [
    "#### Steps for Building First Artificial Neural Network (ANN) with TensorFlow (pic)"
   ]
  }
 ],
 "metadata": {
  "language_info": {
   "name": "python"
  }
 },
 "nbformat": 4,
 "nbformat_minor": 2
}
