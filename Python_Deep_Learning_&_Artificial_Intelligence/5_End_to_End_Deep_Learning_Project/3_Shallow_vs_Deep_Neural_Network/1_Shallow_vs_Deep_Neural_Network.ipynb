{
 "cells": [
  {
   "cell_type": "markdown",
   "metadata": {},
   "source": [
    "#### Typs of Artificial Neural Network (ANN) \n",
    "\n",
    "##### Shallow Neural Network (pic)\n",
    "\n",
    "##### Deep Neural Network (pic)"
   ]
  }
 ],
 "metadata": {
  "language_info": {
   "name": "python"
  }
 },
 "nbformat": 4,
 "nbformat_minor": 2
}
