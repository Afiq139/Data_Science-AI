{
 "cells": [
  {
   "cell_type": "markdown",
   "metadata": {},
   "source": [
    "#### Intoduction to Deep Learning with Keras and Tensorflow (pic)\n",
    "\n",
    "##### what is ANN? (pic)\n",
    "\n",
    "##### Biological Neuron versus Artificial Neural Network (pic)"
   ]
  }
 ],
 "metadata": {
  "language_info": {
   "name": "python"
  }
 },
 "nbformat": 4,
 "nbformat_minor": 2
}
