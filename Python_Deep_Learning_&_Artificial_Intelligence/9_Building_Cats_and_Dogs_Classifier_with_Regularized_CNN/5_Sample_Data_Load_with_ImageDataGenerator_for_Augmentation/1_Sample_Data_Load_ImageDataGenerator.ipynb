{
 "cells": [
  {
   "cell_type": "markdown",
   "metadata": {},
   "source": [
    "#### Sample Data Load ImageDataGenerator for Augmentation (pic)"
   ]
  },
  {
   "cell_type": "markdown",
   "metadata": {},
   "source": [
    "------------------"
   ]
  }
 ],
 "metadata": {
  "language_info": {
   "name": "python"
  }
 },
 "nbformat": 4,
 "nbformat_minor": 2
}
