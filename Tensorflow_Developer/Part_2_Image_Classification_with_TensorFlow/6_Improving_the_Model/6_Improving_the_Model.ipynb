{
 "cells": [
  {
   "cell_type": "markdown",
   "metadata": {},
   "source": [
    "#### Improving the Model"
   ]
  },
  {
   "cell_type": "markdown",
   "metadata": {},
   "source": [
    "-----------------------"
   ]
  },
  {
   "cell_type": "markdown",
   "metadata": {},
   "source": [
    "Questions:\n",
    "\n",
    "1.) Build a neural network using our three-step approach.\n",
    "\n",
    "2.) Increase the number of neuron from 5 to 100 in the hidden layer.\n",
    "\n",
    "3.) Use a custom callback to stop training when the training accuracy is 90%.\n",
    "\n",
    "4.) Try out the following learning rates: 5, 0.5, 0.01, 0.001. What di you observe?\n"
   ]
  }
 ],
 "metadata": {
  "language_info": {
   "name": "python"
  }
 },
 "nbformat": 4,
 "nbformat_minor": 2
}
