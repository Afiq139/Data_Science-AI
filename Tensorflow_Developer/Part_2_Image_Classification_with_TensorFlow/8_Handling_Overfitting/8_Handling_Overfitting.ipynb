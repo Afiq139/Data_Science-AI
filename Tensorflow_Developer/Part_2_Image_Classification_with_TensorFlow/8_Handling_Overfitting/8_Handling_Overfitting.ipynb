{
 "cells": [
  {
   "cell_type": "markdown",
   "metadata": {},
   "source": [
    "#### Handling Overfitting"
   ]
  },
  {
   "cell_type": "markdown",
   "metadata": {},
   "source": [
    "---------------"
   ]
  },
  {
   "cell_type": "markdown",
   "metadata": {},
   "source": [
    "1.) What is overfitting in image classification tasks?\n",
    "\n",
    "2.) How does overfitting occur?\n",
    "\n",
    "3.) What techniques can be used to prevent overfitting?\n",
    "\n",
    "4.) What is data augmentation, and how is it used to prevent overfitting?\n",
    "\n",
    "5.) How can data pre-processing, data diversity, and data balancing be used to mitigate overfitting?"
   ]
  }
 ],
 "metadata": {
  "language_info": {
   "name": "python"
  }
 },
 "nbformat": 4,
 "nbformat_minor": 2
}
