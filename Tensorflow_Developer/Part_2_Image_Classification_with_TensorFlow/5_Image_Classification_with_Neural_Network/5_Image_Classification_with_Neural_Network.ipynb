{
 "cells": [
  {
   "cell_type": "markdown",
   "metadata": {},
   "source": [
    "#### Image Classification with Neural Network"
   ]
  },
  {
   "cell_type": "markdown",
   "metadata": {},
   "source": [
    "-----------------"
   ]
  },
  {
   "cell_type": "markdown",
   "metadata": {},
   "source": [
    "Questions:\n",
    "\n",
    "1.) What is the function of the activation function?\n",
    "\n",
    "2.) How backward propagation work?\n",
    "\n",
    "3.) What is the purpose of the input, hidden, and output layers?\n",
    "\n",
    "4.) Using a TensorFlow dataset, load a handwritten digits dataset after which you will build, compile, train, and evaluate an image classifier. It's a similar exercise to our case study. Got for it."
   ]
  }
 ],
 "metadata": {
  "language_info": {
   "name": "python"
  }
 },
 "nbformat": 4,
 "nbformat_minor": 2
}
