{
 "cells": [
  {
   "cell_type": "markdown",
   "metadata": {},
   "source": [
    "#### Image Classification with Convolutional Neural network"
   ]
  },
  {
   "cell_type": "markdown",
   "metadata": {},
   "source": [
    "----------------------"
   ]
  },
  {
   "cell_type": "markdown",
   "metadata": {},
   "source": [
    "Questions:\n",
    "\n",
    "1.) What are the components of a typical CNN Architecture?\n",
    "\n",
    "2.) How does a convolutional layer work in a CNN architecture?\n",
    "\n",
    "3.) What is pooling and why is it used in a CNN architecture?\n",
    "\n",
    "4.) What is the purpose of a fully connected layer in a CNN architecture?\n",
    "\n",
    "5.) What is the impact of the padding on a convolution operation?\n",
    "\n",
    "6.) What are the advantages of using TensorFlow image data generators?"
   ]
  }
 ],
 "metadata": {
  "language_info": {
   "name": "python"
  }
 },
 "nbformat": 4,
 "nbformat_minor": 2
}
