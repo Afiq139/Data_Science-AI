{
 "cells": [
  {
   "cell_type": "markdown",
   "metadata": {},
   "source": [
    "#### Introduction to Natural Language Processing"
   ]
  },
  {
   "cell_type": "markdown",
   "metadata": {},
   "source": [
    "---------------"
   ]
  },
  {
   "cell_type": "markdown",
   "metadata": {},
   "source": [
    "Questions:\n",
    "\n",
    "1.) Using the test notebook, load the IMDB dataset from TFDS.\n",
    "\n",
    "2.) Use a different embedding dimension and evaluate the model on the test set.\n",
    "\n",
    "3.) Use a different vocabulary size and evaluate the model on the test set.\n",
    "\n",
    "4.) Add more layers and evaluate the model on the test set.\n",
    "\n",
    "5.) Use your best model to make predictions on the sample sentences given.\n"
   ]
  }
 ],
 "metadata": {
  "language_info": {
   "name": "python"
  }
 },
 "nbformat": 4,
 "nbformat_minor": 2
}
