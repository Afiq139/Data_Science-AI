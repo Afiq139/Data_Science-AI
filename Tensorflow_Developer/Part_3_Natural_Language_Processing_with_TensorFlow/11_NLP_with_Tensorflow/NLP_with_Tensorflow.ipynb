{
 "cells": [
  {
   "cell_type": "markdown",
   "metadata": {},
   "source": [
    "#### NLP with Tensorflow"
   ]
  },
  {
   "cell_type": "markdown",
   "metadata": {},
   "source": [
    "--------------------"
   ]
  },
  {
   "cell_type": "markdown",
   "metadata": {},
   "source": [
    "Questions:\n",
    "1.) Load the IMDB movies review dataset from TensorFlow and preprocess it.\n",
    "\n",
    "2.) Build a CNN movie classifier.\n",
    "\n",
    "3.) Build a LSTM movie classifer.\n",
    "\n",
    "4.) Use the GloVe 6B embedding to apply a pretrained word embedding to LSTM architecture.\n",
    "\n",
    "5.) Evaluate all the models, and save best-performing one."
   ]
  }
 ],
 "metadata": {
  "language_info": {
   "name": "python"
  }
 },
 "nbformat": 4,
 "nbformat_minor": 2
}
