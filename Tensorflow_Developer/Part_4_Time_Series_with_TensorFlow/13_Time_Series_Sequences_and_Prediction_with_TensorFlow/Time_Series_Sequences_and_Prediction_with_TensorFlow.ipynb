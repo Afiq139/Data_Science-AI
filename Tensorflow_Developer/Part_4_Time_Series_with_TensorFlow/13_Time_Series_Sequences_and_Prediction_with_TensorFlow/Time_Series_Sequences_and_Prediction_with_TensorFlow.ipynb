{
 "cells": [
  {
   "cell_type": "markdown",
   "metadata": {},
   "source": [
    "#### Time Series Sequences and Prediction with TensorFlow"
   ]
  },
  {
   "cell_type": "markdown",
   "metadata": {},
   "source": [
    "--------------------------"
   ]
  },
  {
   "cell_type": "markdown",
   "metadata": {},
   "source": [
    "Questions:\n",
    "\n",
    "1.) Load the Google stock data from Yahoo Finance for 01-01-2015 to 01-01-2020.\n",
    "\n",
    "2.) Create training, forecasting, and plotting functions.\n",
    "\n",
    "3.) Prepare the data for training.\n",
    "\n",
    "4.) Build DNN, CNN, LSTM, and CNN-LSTM models to model the data.\n",
    "\n",
    "5.) Evaluate the model using MAE and MSE.\n"
   ]
  }
 ],
 "metadata": {
  "language_info": {
   "name": "python"
  }
 },
 "nbformat": 4,
 "nbformat_minor": 2
}
