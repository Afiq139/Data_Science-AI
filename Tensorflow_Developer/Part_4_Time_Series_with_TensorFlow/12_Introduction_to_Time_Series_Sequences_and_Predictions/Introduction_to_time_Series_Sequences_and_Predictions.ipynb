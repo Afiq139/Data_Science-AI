{
 "cells": [
  {
   "cell_type": "markdown",
   "metadata": {},
   "source": [
    "#### Introduction to time Series Sequences and Predictions"
   ]
  },
  {
   "cell_type": "markdown",
   "metadata": {},
   "source": [
    "----------------"
   ]
  },
  {
   "cell_type": "markdown",
   "metadata": {},
   "source": [
    "Questions: \n",
    "1.) Apply the principle of naive forecasting to the \"Air Passenger\" dataset using the exercise notebook provided.\n",
    "\n",
    "2.) Implement the moving average technique on the same dataset and evaluate it's performance by calculating the MAE and MSE values.\n",
    "\n",
    "3.) Next, Introduce the method of diffrence to your moving average model. Again, assess the accuracy of your forecast by determining the MAE and MSE values.\n",
    "\n",
    "4.) with the sample tempurature dataset at hand, demonstrate how to create meaningful features and labels from this data.\n",
    "\n",
    "5.) Lastly, experiment with the sample FFN model on the dataset and observe it's performance. "
   ]
  }
 ],
 "metadata": {
  "language_info": {
   "name": "python"
  }
 },
 "nbformat": 4,
 "nbformat_minor": 2
}
