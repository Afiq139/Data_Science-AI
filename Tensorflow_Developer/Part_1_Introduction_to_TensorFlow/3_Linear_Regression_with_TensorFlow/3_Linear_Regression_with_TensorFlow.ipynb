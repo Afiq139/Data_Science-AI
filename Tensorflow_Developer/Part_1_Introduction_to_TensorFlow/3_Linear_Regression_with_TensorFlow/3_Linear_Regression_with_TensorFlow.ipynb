{
 "cells": [
  {
   "cell_type": "markdown",
   "metadata": {},
   "source": [
    "#### Linear Regression with TensorFlow"
   ]
  },
  {
   "cell_type": "markdown",
   "metadata": {},
   "source": [
    "------------------"
   ]
  },
  {
   "cell_type": "markdown",
   "metadata": {},
   "source": [
    "Questions:\n",
    "\n",
    "1.) What is Linear regression?\n",
    "\n",
    "- Linear regression is a supervised machine learning technique that models the linear relationship between the predicted output variable (dependent variable) and one or more independent variables.\n",
    "\n",
    "2.) What is the difference between simple and multiple linear regression?\n",
    "\n",
    "- multiple linear regression has more than one input variable used to predict the output value than simple linear regression.\n",
    "\n",
    "3.) What evaluation metric penalizes large errors in regression modeling?\n",
    "\n",
    "- mean squared error (MSE)\n",
    "\n",
    "4.) Use the salary dataset to forecast salaries."
   ]
  }
 ],
 "metadata": {
  "language_info": {
   "name": "python"
  }
 },
 "nbformat": 4,
 "nbformat_minor": 2
}
