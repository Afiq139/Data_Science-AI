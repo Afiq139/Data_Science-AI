{
 "cells": [
  {
   "cell_type": "markdown",
   "metadata": {},
   "source": [
    "#### Introduction to TensorFlow"
   ]
  },
  {
   "cell_type": "markdown",
   "metadata": {},
   "source": [
    "------------------------"
   ]
  },
  {
   "cell_type": "markdown",
   "metadata": {},
   "source": [
    "Link: https://colab.research.google.com/drive/1NGF990s_8-o8WTOtnnUei7rvRUEYqvmM"
   ]
  },
  {
   "cell_type": "markdown",
   "metadata": {},
   "source": [
    "Questions:\n",
    "\n",
    "-----\n",
    "1.) What is TensorFlow?\n",
    "- TensorFlow is an open source end-to-end framework for building deep learning applications. \n",
    "\n",
    "-----\n",
    "\n",
    "2.) What are tensors?\n",
    "- Tensors are multi-dimensional arrays designed for numerical data representation; although they share some similarities with Numpy arrays, they posses certain unique features that give them an advantange in deep learning tasks. \n",
    "\n",
    "-----\n",
    "3.) Generate a matrix using tf.variable with the tf.float64 data type and name the variable\n",
    "\n",
    "```\n",
    "import tensorflow as tf\n",
    "\n",
    "# Ensure the use of tf.float64 data type\n",
    "matrix = [[1.0, 2.0], [3.0, 4.0]]\n",
    "matrix_variable = tf.Variable(matrix, dtype=tf.float64, name='my_matrix_variable')\n",
    "\n",
    "# Print the matrix variable to verify\n",
    "print(matrix_variable)\n",
    "```\n",
    "\n",
    "-----\n",
    "4.) Generate 15 random numbers between 1 and 20 and extract the lowest number, the highest number, the mean, and the index with the lowest and highest numbers.\n",
    "\n",
    "```\n",
    "import tensorflow as tf\n",
    "\n",
    "# Generate 15 random numbers between 1 and 20\n",
    "random_numbers = tf.random.uniform([15], minval=1, maxval=21, dtype=tf.int32)\n",
    "\n",
    "# Convert to numpy array for easier manipulation\n",
    "random_numbers_np = random_numbers.numpy()\n",
    "\n",
    "# Extract the lowest number\n",
    "lowest_number = tf.reduce_min(random_numbers)\n",
    "\n",
    "# Extract the highest number\n",
    "highest_number = tf.reduce_max(random_numbers)\n",
    "\n",
    "# Calculate the mean\n",
    "mean_value = tf.reduce_mean(tf.cast(random_numbers, tf.float64))\n",
    "\n",
    "# Find the index of the lowest number\n",
    "index_lowest = tf.argmin(random_numbers, axis=0)\n",
    "\n",
    "# Find the index of the highest number\n",
    "index_highest = tf.argmax(random_numbers, axis=0)\n",
    "\n",
    "# Print the results\n",
    "print(f\"Random numbers: {random_numbers_np}\")\n",
    "print(f\"Lowest number: {lowest_number.numpy()}\")\n",
    "print(f\"Highest number: {highest_number.numpy()}\")\n",
    "print(f\"Mean: {mean_value.numpy()}\")\n",
    "print(f\"Index of lowest number: {index_lowest.numpy()}\")\n",
    "print(f\"Index of highest number: {index_highest.numpy()}\")\n",
    "```\n",
    "-----\n",
    "\n",
    "5.) Generate a 4 x3 matrix, and mulitiply the matrix by it's transpose. \n",
    "\n",
    "```\n",
    "import tensorflow as tf\n",
    "\n",
    "# Generate a 4x3 matrix with random values\n",
    "matrix = tf.random.uniform([4, 3], minval=0, maxval=10, dtype=tf.float64)\n",
    "\n",
    "# Compute the transpose of the matrix\n",
    "matrix_transpose = tf.transpose(matrix)\n",
    "\n",
    "# Multiply the matrix by its transpose\n",
    "result = tf.matmul(matrix, matrix_transpose)\n",
    "\n",
    "# Print the original matrix, its transpose, and the result\n",
    "print(\"Original matrix (4x3):\\n\", matrix.numpy())\n",
    "print(\"\\nTranspose of the matrix (3x4):\\n\", matrix_transpose.numpy())\n",
    "print(\"\\nResult of the multiplication (4x4):\\n\", result.numpy())\n",
    "```\n",
    "\n",
    "-----"
   ]
  }
 ],
 "metadata": {
  "language_info": {
   "name": "python"
  }
 },
 "nbformat": 4,
 "nbformat_minor": 2
}
