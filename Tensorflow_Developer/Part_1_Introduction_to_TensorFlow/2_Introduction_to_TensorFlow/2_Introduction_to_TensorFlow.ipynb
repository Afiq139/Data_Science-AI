{
 "cells": [
  {
   "cell_type": "markdown",
   "metadata": {},
   "source": [
    "#### Introduction to TensorFlow"
   ]
  },
  {
   "cell_type": "markdown",
   "metadata": {},
   "source": [
    "------------------------"
   ]
  },
  {
   "cell_type": "markdown",
   "metadata": {},
   "source": [
    "Link: https://colab.research.google.com/drive/1NGF990s_8-o8WTOtnnUei7rvRUEYqvmM"
   ]
  },
  {
   "cell_type": "markdown",
   "metadata": {},
   "source": [
    "Questions:\n",
    "\n",
    "1.) What is TensorFlow?\n",
    "\n",
    "2.) What are tensors?\n",
    "\n",
    "3.) Generate a matrix using tf.variable with the tf.float64 data type and name the variable\n",
    "\n",
    "4.) Generate 15 random numbers between 1 and 20 and extract the lowest number, the highest number, the mean, and the index with the lowest and highest numbers.\n",
    "\n",
    "5.) Generate a 4 x3 matrix, and mulitiply the matrix by it's transpose. "
   ]
  }
 ],
 "metadata": {
  "language_info": {
   "name": "python"
  }
 },
 "nbformat": 4,
 "nbformat_minor": 2
}
