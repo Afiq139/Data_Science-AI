{
 "cells": [
  {
   "cell_type": "markdown",
   "metadata": {},
   "source": [
    "#### Introduction to TensorFlow"
   ]
  },
  {
   "cell_type": "markdown",
   "metadata": {},
   "source": [
    "------------------------"
   ]
  },
  {
   "cell_type": "markdown",
   "metadata": {},
   "source": [
    "Link: https://colab.research.google.com/drive/1NGF990s_8-o8WTOtnnUei7rvRUEYqvmM"
   ]
  },
  {
   "cell_type": "markdown",
   "metadata": {},
   "source": [
    "Questions:\n",
    "\n",
    "1.) What is TensorFlow?\n",
    "- TensorFlow is an open source end-to-end framework for building deep learning applications. \n",
    "\n",
    "2.) What are tensors?\n",
    "- Tensors are multi-dimensional arrays designed for numerical data representation; although they share some similarities with Numpy arrays, they posses certain unique features that give them an advantange in deep learning tasks. \n",
    "\n",
    "3.) Generate a matrix using tf.variable with the tf.float64 data type and name the variable\n",
    "\n",
    "```\n",
    "import tensorflow as tf\n",
    "\n",
    "# Ensure the use of tf.float64 data type\n",
    "matrix = [[1.0, 2.0], [3.0, 4.0]]\n",
    "matrix_variable = tf.Variable(matrix, dtype=tf.float64, name='my_matrix_variable')\n",
    "\n",
    "# Print the matrix variable to verify\n",
    "print(matrix_variable)\n",
    "```\n",
    "\n",
    "This code creates a 2x2 matrix with the `tf.float64` data type and assigns it to a TensorFlow variable named `my_matrix_variable`. When you print `matrix_variable`, you should see the details of the TensorFlow variable, including its name and shape.\n",
    "\n",
    "4.) Generate 15 random numbers between 1 and 20 and extract the lowest number, the highest number, the mean, and the index with the lowest and highest numbers.\n",
    "\n",
    "5.) Generate a 4 x3 matrix, and mulitiply the matrix by it's transpose. "
   ]
  }
 ],
 "metadata": {
  "language_info": {
   "name": "python"
  }
 },
 "nbformat": 4,
 "nbformat_minor": 2
}
