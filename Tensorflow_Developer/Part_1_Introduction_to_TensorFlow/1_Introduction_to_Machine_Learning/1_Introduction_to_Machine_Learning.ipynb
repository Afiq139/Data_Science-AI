{
 "cells": [
  {
   "cell_type": "markdown",
   "metadata": {},
   "source": [
    "#### Introduction to Machine Learning "
   ]
  },
  {
   "cell_type": "markdown",
   "metadata": {},
   "source": [
    "-------------"
   ]
  },
  {
   "cell_type": "markdown",
   "metadata": {},
   "source": [
    "Questions:"
   ]
  },
  {
   "cell_type": "markdown",
   "metadata": {},
   "source": [
    "1.) What is ML?\n",
    "\n",
    "- ML (Machine Learning) is a subfield of artificial intelligence (AI) in which computer systems learn patterns from data to perform specific tasks or make predictions on unseen data without being explicitly programmed. "
   ]
  },
  {
   "cell_type": "markdown",
   "metadata": {},
   "source": [
    "2.) What is deep learning?\n",
    "\n",
    "- Deep learning is a subset of ML that mimics the human brain by using complex hierarchical models that are composed of multiple processing layers. "
   ]
  },
  {
   "cell_type": "markdown",
   "metadata": {},
   "source": [
    "3.) what are the types of ML?\n",
    "\n",
    "        The four types of ML algorithms are as follows:\n",
    "\n",
    "        • Supervised learning\n",
    "\n",
    "        • Unsupervised learning\n",
    "\n",
    "        • Semi-supervised learning\n",
    "\n",
    "        • Reinforcement learning"
   ]
  },
  {
   "cell_type": "markdown",
   "metadata": {},
   "source": [
    "4.) What are the steps in ML life cycle?\n",
    "\n",
    "- Business core\n",
    "- Data Gathering and Understanding\n",
    "- Modeling\n",
    "- Error Analysis\n",
    "- Deploying and Monitoring"
   ]
  },
  {
   "cell_type": "markdown",
   "metadata": {},
   "source": [
    "5.) What is the TensorFlow Developer Certificate about?\n",
    "\n",
    "The TensorFlow Developer Certificate exam was designed and developed by Google to assess data professionals’ expertise in model building and training deep learning models with TensorFlow. The exams enable data professionals to showcase their skills in solving real-world problems with ML/DL.\n"
   ]
  },
  {
   "cell_type": "markdown",
   "metadata": {},
   "source": [
    "6.) What are the core areas of the exam?\n",
    "\n",
    "• TensorFlow developer skills\n",
    "\n",
    "• Building and training neural network models using TensorFlow 2.x\n",
    "\n",
    "• Image classification\n",
    "\n",
    "• Natural language processing (NLP)\n",
    "\n",
    "• Time series, sequences, and predictions"
   ]
  }
 ],
 "metadata": {
  "kernelspec": {
   "display_name": "base",
   "language": "python",
   "name": "python3"
  },
  "language_info": {
   "name": "python",
   "version": "3.11.3"
  }
 },
 "nbformat": 4,
 "nbformat_minor": 2
}
