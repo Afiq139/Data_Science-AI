{
 "cells": [
  {
   "cell_type": "markdown",
   "metadata": {},
   "source": [
    "#### Classification with TensorFlow"
   ]
  },
  {
   "cell_type": "markdown",
   "metadata": {},
   "source": [
    "----------------"
   ]
  },
  {
   "cell_type": "markdown",
   "metadata": {},
   "source": [
    "Questions:\n",
    "\n",
    "1.) What is classification modeling?\n",
    "\n",
    "2.) What is the difference between multi-class and multi-label classification problems?\n",
    "\n",
    "3.) You work for a streaming company offering interesting children content. Which metrics, between precision and recall, will you focus on improving and why?\n",
    "\n",
    "4.) Your company is building a loan prediction system to offer loans to clients. Which metrics, between precision and recall, will you focus on improving, and why?"
   ]
  }
 ],
 "metadata": {
  "language_info": {
   "name": "python"
  }
 },
 "nbformat": 4,
 "nbformat_minor": 2
}
