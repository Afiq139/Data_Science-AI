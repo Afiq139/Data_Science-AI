{
 "cells": [
  {
   "cell_type": "code",
   "execution_count": 4,
   "metadata": {},
   "outputs": [
    {
     "name": "stdout",
     "output_type": "stream",
     "text": [
      "No\n"
     ]
    },
    {
     "name": "stderr",
     "output_type": "stream",
     "text": [
      "c:\\Users\\shafi\\AppData\\Local\\Programs\\Python\\Python39\\lib\\site-packages\\sklearn\\base.py:409: UserWarning: X does not have valid feature names, but DecisionTreeClassifier was fitted with feature names\n",
      "  warnings.warn(\n"
     ]
    }
   ],
   "source": [
    "import pandas as pd   # to do data processing\n",
    "import joblib         #to read joblib model file\n",
    "\n",
    "#use the existing model\n",
    "model = joblib.load('titanic-survival.joblib')\n",
    "\n",
    "# test our own data\n",
    "\n",
    "#jack\n",
    "Pclass = 3\n",
    "Gender = 0\n",
    "Sibsp = 0\n",
    "Parch = 0\n",
    "\n",
    "#Rose\n",
    "# Pclass = 1\n",
    "# Gender = 1\n",
    "# Sibsp = 0\n",
    "# Parch = 2\n",
    "\n",
    "survived = model.predict([[Pclass, Gender, Sibsp, Parch]])[0]\n",
    "\n",
    "if survived == 1:\n",
    "    print('Survived')\n",
    "else :\n",
    "    print('No')"
   ]
  }
 ],
 "metadata": {
  "kernelspec": {
   "display_name": "Python 3",
   "language": "python",
   "name": "python3"
  },
  "language_info": {
   "codemirror_mode": {
    "name": "ipython",
    "version": 3
   },
   "file_extension": ".py",
   "mimetype": "text/x-python",
   "name": "python",
   "nbconvert_exporter": "python",
   "pygments_lexer": "ipython3",
   "version": "3.9.13 (tags/v3.9.13:6de2ca5, May 17 2022, 16:36:42) [MSC v.1929 64 bit (AMD64)]"
  },
  "orig_nbformat": 4,
  "vscode": {
   "interpreter": {
    "hash": "3845ecf2f75c4b141708cf535295bd76010cab018c7f49409b4f057329a9728a"
   }
  }
 },
 "nbformat": 4,
 "nbformat_minor": 2
}
