{
 "cells": [
  {
   "cell_type": "code",
   "execution_count": 3,
   "metadata": {},
   "outputs": [
    {
     "ename": "NameError",
     "evalue": "name 'Gender' is not defined",
     "output_type": "error",
     "traceback": [
      "\u001b[1;31m---------------------------------------------------------------------------\u001b[0m",
      "\u001b[1;31mNameError\u001b[0m                                 Traceback (most recent call last)",
      "Cell \u001b[1;32mIn[3], line 21\u001b[0m\n\u001b[0;32m     13\u001b[0m Parch \u001b[39m=\u001b[39m \u001b[39m0\u001b[39m\n\u001b[0;32m     15\u001b[0m \u001b[39m#Rose\u001b[39;00m\n\u001b[0;32m     16\u001b[0m \u001b[39m# Pclass = 1\u001b[39;00m\n\u001b[0;32m     17\u001b[0m \u001b[39m# Gender = 1\u001b[39;00m\n\u001b[0;32m     18\u001b[0m \u001b[39m# Sibsp = 0\u001b[39;00m\n\u001b[0;32m     19\u001b[0m \u001b[39m# Parch = 2\u001b[39;00m\n\u001b[1;32m---> 21\u001b[0m survived \u001b[39m=\u001b[39m model\u001b[39m.\u001b[39mpredict([[Pclass, Gender, Sibsp, Parch]])[\u001b[39m0\u001b[39m]\n\u001b[0;32m     23\u001b[0m \u001b[39mif\u001b[39;00m survived \u001b[39m==\u001b[39m \u001b[39m1\u001b[39m:\n\u001b[0;32m     24\u001b[0m     \u001b[39mprint\u001b[39m(\u001b[39m'\u001b[39m\u001b[39mSurvived\u001b[39m\u001b[39m'\u001b[39m)\n",
      "\u001b[1;31mNameError\u001b[0m: name 'Gender' is not defined"
     ]
    }
   ],
   "source": [
    "import pandas as pd   # to do data processing\n",
    "import joblib         #to read joblib model file\n",
    "\n",
    "#use the existing model\n",
    "model = joblib.load('titanic-survival.joblib')\n",
    "\n",
    "# test our own data\n",
    "\n",
    "#jack\n",
    "Pclass = 3\n",
    "Gender = 0\n",
    "Sibsp = 0\n",
    "Parch = 0\n",
    "\n",
    "#Rose\n",
    "# Pclass = 1\n",
    "# Gender = 1\n",
    "# Sibsp = 0\n",
    "# Parch = 2\n",
    "\n",
    "survived = model.predict([[Pclass, Gender, Sibsp, Parch]])[0]\n",
    "\n",
    "if survived == 1:\n",
    "    print('Survived')\n",
    "else :\n",
    "    print('No')"
   ]
  }
 ],
 "metadata": {
  "kernelspec": {
   "display_name": "Python 3",
   "language": "python",
   "name": "python3"
  },
  "language_info": {
   "codemirror_mode": {
    "name": "ipython",
    "version": 3
   },
   "file_extension": ".py",
   "mimetype": "text/x-python",
   "name": "python",
   "nbconvert_exporter": "python",
   "pygments_lexer": "ipython3",
   "version": "3.9.13"
  },
  "orig_nbformat": 4,
  "vscode": {
   "interpreter": {
    "hash": "3845ecf2f75c4b141708cf535295bd76010cab018c7f49409b4f057329a9728a"
   }
  }
 },
 "nbformat": 4,
 "nbformat_minor": 2
}
